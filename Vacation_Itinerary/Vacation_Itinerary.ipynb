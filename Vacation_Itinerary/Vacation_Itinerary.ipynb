{
 "cells": [
  {
   "cell_type": "markdown",
   "metadata": {},
   "source": [
    "## Deliverable 3. Create a Travel Itinerary Map."
   ]
  },
  {
   "cell_type": "code",
   "execution_count": 1,
   "metadata": {},
   "outputs": [],
   "source": [
    "# Dependencies and Setup\n",
    "import pandas as pd\n",
    "import requests\n",
    "import gmaps\n",
    "import sys\n",
    "import os\n",
    "\n",
    "\n",
    "sys.path.append(\"../\")\n",
    "\n",
    "# Import API key\n",
    "from config import g_key\n",
    "\n",
    "# Configure gmaps\n",
    "gmaps.configure(api_key=g_key)"
   ]
  },
  {
   "cell_type": "code",
   "execution_count": 2,
   "metadata": {},
   "outputs": [
    {
     "data": {
      "text/html": [
       "<div>\n",
       "<style scoped>\n",
       "    .dataframe tbody tr th:only-of-type {\n",
       "        vertical-align: middle;\n",
       "    }\n",
       "\n",
       "    .dataframe tbody tr th {\n",
       "        vertical-align: top;\n",
       "    }\n",
       "\n",
       "    .dataframe thead th {\n",
       "        text-align: right;\n",
       "    }\n",
       "</style>\n",
       "<table border=\"1\" class=\"dataframe\">\n",
       "  <thead>\n",
       "    <tr style=\"text-align: right;\">\n",
       "      <th></th>\n",
       "      <th>City_ID</th>\n",
       "      <th>City</th>\n",
       "      <th>Country</th>\n",
       "      <th>Max Temp</th>\n",
       "      <th>Current Description</th>\n",
       "      <th>Lat</th>\n",
       "      <th>Lng</th>\n",
       "      <th>Hotel Name</th>\n",
       "    </tr>\n",
       "  </thead>\n",
       "  <tbody>\n",
       "    <tr>\n",
       "      <th>0</th>\n",
       "      <td>15</td>\n",
       "      <td>Kendari</td>\n",
       "      <td>ID</td>\n",
       "      <td>79.43</td>\n",
       "      <td>overcast clouds</td>\n",
       "      <td>-3.9450</td>\n",
       "      <td>122.4989</td>\n",
       "      <td>Hotel Wixel</td>\n",
       "    </tr>\n",
       "    <tr>\n",
       "      <th>1</th>\n",
       "      <td>19</td>\n",
       "      <td>Pochutla</td>\n",
       "      <td>MX</td>\n",
       "      <td>85.82</td>\n",
       "      <td>clear sky</td>\n",
       "      <td>15.7432</td>\n",
       "      <td>-96.4661</td>\n",
       "      <td>Hotel Posada San Jose</td>\n",
       "    </tr>\n",
       "    <tr>\n",
       "      <th>2</th>\n",
       "      <td>23</td>\n",
       "      <td>Pierre</td>\n",
       "      <td>US</td>\n",
       "      <td>75.99</td>\n",
       "      <td>overcast clouds</td>\n",
       "      <td>44.3683</td>\n",
       "      <td>-100.3510</td>\n",
       "      <td>Ramkota Hotel</td>\n",
       "    </tr>\n",
       "    <tr>\n",
       "      <th>3</th>\n",
       "      <td>28</td>\n",
       "      <td>Samana</td>\n",
       "      <td>DO</td>\n",
       "      <td>75.56</td>\n",
       "      <td>overcast clouds</td>\n",
       "      <td>19.2056</td>\n",
       "      <td>-69.3369</td>\n",
       "      <td>The Bannister - Hotel &amp; Yacht Club</td>\n",
       "    </tr>\n",
       "    <tr>\n",
       "      <th>4</th>\n",
       "      <td>29</td>\n",
       "      <td>Lazaro Cardenas</td>\n",
       "      <td>MX</td>\n",
       "      <td>78.35</td>\n",
       "      <td>few clouds</td>\n",
       "      <td>17.9583</td>\n",
       "      <td>-102.2000</td>\n",
       "      <td>Hotel Quinta Antigua</td>\n",
       "    </tr>\n",
       "  </tbody>\n",
       "</table>\n",
       "</div>"
      ],
      "text/plain": [
       "   City_ID             City Country  Max Temp Current Description      Lat  \\\n",
       "0       15          Kendari      ID     79.43     overcast clouds  -3.9450   \n",
       "1       19         Pochutla      MX     85.82           clear sky  15.7432   \n",
       "2       23           Pierre      US     75.99     overcast clouds  44.3683   \n",
       "3       28           Samana      DO     75.56     overcast clouds  19.2056   \n",
       "4       29  Lazaro Cardenas      MX     78.35          few clouds  17.9583   \n",
       "\n",
       "        Lng                          Hotel Name  \n",
       "0  122.4989                         Hotel Wixel  \n",
       "1  -96.4661               Hotel Posada San Jose  \n",
       "2 -100.3510                       Ramkota Hotel  \n",
       "3  -69.3369  The Bannister - Hotel & Yacht Club  \n",
       "4 -102.2000                Hotel Quinta Antigua  "
      ]
     },
     "execution_count": 2,
     "metadata": {},
     "output_type": "execute_result"
    }
   ],
   "source": [
    "# 1. Read the WeatherPy_vacation.csv into a DataFrame.\n",
    "\n",
    "city_path = os.path.join(\"..\", \"Vacation_Search\", \"WeatherPy_vacation.csv\")\n",
    "\n",
    "vacation_df = pd.read_csv(city_path)\n",
    "vacation_df.head()"
   ]
  },
  {
   "cell_type": "code",
   "execution_count": 3,
   "metadata": {},
   "outputs": [],
   "source": [
    "# 2. Using the template add the city name, the country code, the weather description and maximum temperature for the city.\n",
    "info_box_template = \"\"\"\n",
    "<dl>\n",
    "<dt>Hotel Name</dt><dd>{Hotel Name}</dd>\n",
    "<dt>City</dt><dd>{City}</dd>\n",
    "<dt>Country</dt><dd>{Country}</dd>\n",
    "<dt>Current Weather</dt><dd>{Current Description} and {Max Temp} °F</dd>\n",
    "</dl>\n",
    "\"\"\"\n",
    "\n",
    "# 3a. Get the data from each row and add it to the formatting template and store the data in a list.\n",
    "hotel_info = [info_box_template.format(**row) for index, row in vacation_df.iterrows()]\n",
    "\n",
    "# 3b. Get the latitude and longitude from each row and store in a new DataFrame.\n",
    "locations = vacation_df[[\"Lat\", \"Lng\"]]"
   ]
  },
  {
   "cell_type": "code",
   "execution_count": 4,
   "metadata": {
    "scrolled": true
   },
   "outputs": [
    {
     "data": {
      "application/vnd.jupyter.widget-view+json": {
       "model_id": "e0ff0d7791a549d59eccba217651885b",
       "version_major": 2,
       "version_minor": 0
      },
      "text/plain": [
       "Figure(layout=FigureLayout(height='420px'))"
      ]
     },
     "metadata": {},
     "output_type": "display_data"
    }
   ],
   "source": [
    "# 4a. Add a marker layer for each city to the map.\n",
    "locations = vacation_df[[\"Lat\", \"Lng\"]]\n",
    "max_temp = vacation_df[\"Max Temp\"]\n",
    "fig = gmaps.figure(center=(30.0, 31.0), zoom_level=1.5)\n",
    "heat_layer = gmaps.heatmap_layer(locations, weights=max_temp,dissipating=False,\n",
    "             max_intensity=300, point_radius=4)\n",
    "marker_layer = gmaps.marker_layer(locations, info_box_content=hotel_info)\n",
    "fig.add_layer(heat_layer)\n",
    "fig.add_layer(marker_layer)\n",
    "# 4b. Display the figure\n",
    "fig\n"
   ]
  },
  {
   "cell_type": "code",
   "execution_count": 5,
   "metadata": {},
   "outputs": [
    {
     "data": {
      "text/html": [
       "<div>\n",
       "<style scoped>\n",
       "    .dataframe tbody tr th:only-of-type {\n",
       "        vertical-align: middle;\n",
       "    }\n",
       "\n",
       "    .dataframe tbody tr th {\n",
       "        vertical-align: top;\n",
       "    }\n",
       "\n",
       "    .dataframe thead th {\n",
       "        text-align: right;\n",
       "    }\n",
       "</style>\n",
       "<table border=\"1\" class=\"dataframe\">\n",
       "  <thead>\n",
       "    <tr style=\"text-align: right;\">\n",
       "      <th></th>\n",
       "      <th>City_ID</th>\n",
       "      <th>City</th>\n",
       "      <th>Country</th>\n",
       "      <th>Max Temp</th>\n",
       "      <th>Current Description</th>\n",
       "      <th>Lat</th>\n",
       "      <th>Lng</th>\n",
       "      <th>Hotel Name</th>\n",
       "    </tr>\n",
       "  </thead>\n",
       "  <tbody>\n",
       "    <tr>\n",
       "      <th>2</th>\n",
       "      <td>23</td>\n",
       "      <td>Pierre</td>\n",
       "      <td>US</td>\n",
       "      <td>75.99</td>\n",
       "      <td>overcast clouds</td>\n",
       "      <td>44.3683</td>\n",
       "      <td>-100.3510</td>\n",
       "      <td>Ramkota Hotel</td>\n",
       "    </tr>\n",
       "    <tr>\n",
       "      <th>5</th>\n",
       "      <td>33</td>\n",
       "      <td>Makakilo City</td>\n",
       "      <td>US</td>\n",
       "      <td>82.72</td>\n",
       "      <td>broken clouds</td>\n",
       "      <td>21.3469</td>\n",
       "      <td>-158.0858</td>\n",
       "      <td>Marriott's Ko Olina Beach Club</td>\n",
       "    </tr>\n",
       "    <tr>\n",
       "      <th>11</th>\n",
       "      <td>50</td>\n",
       "      <td>Kapaa</td>\n",
       "      <td>US</td>\n",
       "      <td>82.38</td>\n",
       "      <td>clear sky</td>\n",
       "      <td>22.0752</td>\n",
       "      <td>-159.3190</td>\n",
       "      <td>Sheraton Kauai Coconut Beach Resort</td>\n",
       "    </tr>\n",
       "    <tr>\n",
       "      <th>30</th>\n",
       "      <td>110</td>\n",
       "      <td>Truth Or Consequences</td>\n",
       "      <td>US</td>\n",
       "      <td>80.91</td>\n",
       "      <td>scattered clouds</td>\n",
       "      <td>33.1284</td>\n",
       "      <td>-107.2528</td>\n",
       "      <td>Charles Motel</td>\n",
       "    </tr>\n",
       "    <tr>\n",
       "      <th>33</th>\n",
       "      <td>118</td>\n",
       "      <td>Ewa Beach</td>\n",
       "      <td>US</td>\n",
       "      <td>84.15</td>\n",
       "      <td>broken clouds</td>\n",
       "      <td>21.3156</td>\n",
       "      <td>-158.0072</td>\n",
       "      <td>Uncle Junior Robert</td>\n",
       "    </tr>\n",
       "  </tbody>\n",
       "</table>\n",
       "</div>"
      ],
      "text/plain": [
       "    City_ID                   City Country  Max Temp Current Description  \\\n",
       "2        23                 Pierre      US     75.99     overcast clouds   \n",
       "5        33          Makakilo City      US     82.72       broken clouds   \n",
       "11       50                  Kapaa      US     82.38           clear sky   \n",
       "30      110  Truth Or Consequences      US     80.91    scattered clouds   \n",
       "33      118              Ewa Beach      US     84.15       broken clouds   \n",
       "\n",
       "        Lat       Lng                           Hotel Name  \n",
       "2   44.3683 -100.3510                        Ramkota Hotel  \n",
       "5   21.3469 -158.0858       Marriott's Ko Olina Beach Club  \n",
       "11  22.0752 -159.3190  Sheraton Kauai Coconut Beach Resort  \n",
       "30  33.1284 -107.2528                        Charles Motel  \n",
       "33  21.3156 -158.0072                  Uncle Junior Robert  "
      ]
     },
     "execution_count": 5,
     "metadata": {},
     "output_type": "execute_result"
    }
   ],
   "source": [
    "#Build a US only DF\n",
    "USonly_df = vacation_df[(vacation_df[\"Country\"] == 'US')]\n",
    "USonly_df.head()"
   ]
  },
  {
   "cell_type": "code",
   "execution_count": 6,
   "metadata": {},
   "outputs": [
    {
     "data": {
      "text/html": [
       "<div>\n",
       "<style scoped>\n",
       "    .dataframe tbody tr th:only-of-type {\n",
       "        vertical-align: middle;\n",
       "    }\n",
       "\n",
       "    .dataframe tbody tr th {\n",
       "        vertical-align: top;\n",
       "    }\n",
       "\n",
       "    .dataframe thead th {\n",
       "        text-align: right;\n",
       "    }\n",
       "</style>\n",
       "<table border=\"1\" class=\"dataframe\">\n",
       "  <thead>\n",
       "    <tr style=\"text-align: right;\">\n",
       "      <th></th>\n",
       "      <th>City_ID</th>\n",
       "      <th>City</th>\n",
       "      <th>Country</th>\n",
       "      <th>Max Temp</th>\n",
       "      <th>Current Description</th>\n",
       "      <th>Lat</th>\n",
       "      <th>Lng</th>\n",
       "      <th>Hotel Name</th>\n",
       "    </tr>\n",
       "  </thead>\n",
       "  <tbody>\n",
       "    <tr>\n",
       "      <th>5</th>\n",
       "      <td>33</td>\n",
       "      <td>Makakilo City</td>\n",
       "      <td>US</td>\n",
       "      <td>82.72</td>\n",
       "      <td>broken clouds</td>\n",
       "      <td>21.3469</td>\n",
       "      <td>-158.0858</td>\n",
       "      <td>Marriott's Ko Olina Beach Club</td>\n",
       "    </tr>\n",
       "  </tbody>\n",
       "</table>\n",
       "</div>"
      ],
      "text/plain": [
       "   City_ID           City Country  Max Temp Current Description      Lat  \\\n",
       "5       33  Makakilo City      US     82.72       broken clouds  21.3469   \n",
       "\n",
       "        Lng                      Hotel Name  \n",
       "5 -158.0858  Marriott's Ko Olina Beach Club  "
      ]
     },
     "execution_count": 6,
     "metadata": {},
     "output_type": "execute_result"
    }
   ],
   "source": [
    "#this works\n",
    "vacation_start = USonly_df.sample()\n",
    "vacation_end = vacation_start\n",
    "vacation_stop1 = USonly_df.sample()\n",
    "vacation_stop2 = USonly_df.sample()\n",
    "vacation_stop3 = USonly_df.sample()\n",
    "vacation_stop1\n"
   ]
  },
  {
   "cell_type": "code",
   "execution_count": 7,
   "metadata": {},
   "outputs": [],
   "source": [
    "# From the map above pick 4 cities and create a vacation itinerary route to travel between the four cities. \n",
    "# 5. Create DataFrames for each city by filtering the 'vacation_df' using the loc method. \n",
    "# Hint: The starting and ending city should be the same city.\n",
    "\n",
    "vacation_start = USonly_df.loc[USonly_df['City']=='Pierre']\n",
    "vacation_end = vacation_start\n",
    "vacation_stop1 = USonly_df.loc[USonly_df['City']=='Fort Dodge']\n",
    "vacation_stop2 = USonly_df.loc[USonly_df['City']=='Plattsburgh']\n",
    "vacation_stop3 = USonly_df.loc[USonly_df['City']=='Roma']\n",
    "#vacation_stop3 = vacation_df.loc[19]\n"
   ]
  },
  {
   "cell_type": "code",
   "execution_count": 8,
   "metadata": {},
   "outputs": [],
   "source": [
    "\n",
    "# 6. Get the latitude-longitude pairs as tuples from each city DataFrame using the to_numpy function and list indexing.\n",
    "start = tuple(vacation_start[[\"Lat\",\"Lng\"]].to_numpy()[0])\n",
    "end = tuple(vacation_end[[\"Lat\",\"Lng\"]].to_numpy()[0])\n",
    "stop1 = tuple(vacation_stop1[[\"Lat\",\"Lng\"]].to_numpy()[0])\n",
    "stop2 = tuple(vacation_stop2[[\"Lat\",\"Lng\"]].to_numpy()[0])\n",
    "stop3 = tuple(vacation_stop3[[\"Lat\",\"Lng\"]].to_numpy()[0])\n",
    "\n"
   ]
  },
  {
   "cell_type": "code",
   "execution_count": 9,
   "metadata": {
    "scrolled": true
   },
   "outputs": [
    {
     "data": {
      "application/vnd.jupyter.widget-view+json": {
       "model_id": "e4377eeca1744bc6b3565ec0ab766544",
       "version_major": 2,
       "version_minor": 0
      },
      "text/plain": [
       "Figure(layout=FigureLayout(height='420px'))"
      ]
     },
     "metadata": {},
     "output_type": "display_data"
    }
   ],
   "source": [
    "\n",
    "\n",
    "# 7. Create a direction layer map using the start and end latitude-longitude pairs,\n",
    "# and stop1, stop2, and stop3 as the waypoints. The travel_mode should be \"DRIVING\", \"BICYCLING\", or \"WALKING\".\n",
    "\n",
    "fig = gmaps.figure()\n",
    "starttoend = gmaps.directions_layer(start, end, waypoints = [stop1,stop2, stop3], travel_mode='DRIVING')\n",
    "fig.add_layer(starttoend)\n",
    "fig\n",
    "\n",
    "\n"
   ]
  },
  {
   "cell_type": "code",
   "execution_count": 10,
   "metadata": {},
   "outputs": [
    {
     "data": {
      "text/html": [
       "<div>\n",
       "<style scoped>\n",
       "    .dataframe tbody tr th:only-of-type {\n",
       "        vertical-align: middle;\n",
       "    }\n",
       "\n",
       "    .dataframe tbody tr th {\n",
       "        vertical-align: top;\n",
       "    }\n",
       "\n",
       "    .dataframe thead th {\n",
       "        text-align: right;\n",
       "    }\n",
       "</style>\n",
       "<table border=\"1\" class=\"dataframe\">\n",
       "  <thead>\n",
       "    <tr style=\"text-align: right;\">\n",
       "      <th></th>\n",
       "      <th>City_ID</th>\n",
       "      <th>City</th>\n",
       "      <th>Country</th>\n",
       "      <th>Max Temp</th>\n",
       "      <th>Current Description</th>\n",
       "      <th>Lat</th>\n",
       "      <th>Lng</th>\n",
       "      <th>Hotel Name</th>\n",
       "    </tr>\n",
       "  </thead>\n",
       "  <tbody>\n",
       "    <tr>\n",
       "      <th>0</th>\n",
       "      <td>23</td>\n",
       "      <td>Pierre</td>\n",
       "      <td>US</td>\n",
       "      <td>75.99</td>\n",
       "      <td>overcast clouds</td>\n",
       "      <td>44.3683</td>\n",
       "      <td>-100.3510</td>\n",
       "      <td>Ramkota Hotel</td>\n",
       "    </tr>\n",
       "    <tr>\n",
       "      <th>1</th>\n",
       "      <td>399</td>\n",
       "      <td>Fort Dodge</td>\n",
       "      <td>US</td>\n",
       "      <td>75.45</td>\n",
       "      <td>few clouds</td>\n",
       "      <td>42.4975</td>\n",
       "      <td>-94.1680</td>\n",
       "      <td>Country Inn &amp; Suites by Radisson, Fort Dodge, IA</td>\n",
       "    </tr>\n",
       "    <tr>\n",
       "      <th>2</th>\n",
       "      <td>694</td>\n",
       "      <td>Plattsburgh</td>\n",
       "      <td>US</td>\n",
       "      <td>77.32</td>\n",
       "      <td>clear sky</td>\n",
       "      <td>44.6995</td>\n",
       "      <td>-73.4529</td>\n",
       "      <td>La Quinta Inn &amp; Suites by Wyndham Plattsburgh</td>\n",
       "    </tr>\n",
       "    <tr>\n",
       "      <th>3</th>\n",
       "      <td>597</td>\n",
       "      <td>Roma</td>\n",
       "      <td>US</td>\n",
       "      <td>75.88</td>\n",
       "      <td>clear sky</td>\n",
       "      <td>43.2128</td>\n",
       "      <td>-75.4557</td>\n",
       "      <td>Wingate By Wyndham Rome</td>\n",
       "    </tr>\n",
       "    <tr>\n",
       "      <th>4</th>\n",
       "      <td>23</td>\n",
       "      <td>Pierre</td>\n",
       "      <td>US</td>\n",
       "      <td>75.99</td>\n",
       "      <td>overcast clouds</td>\n",
       "      <td>44.3683</td>\n",
       "      <td>-100.3510</td>\n",
       "      <td>Ramkota Hotel</td>\n",
       "    </tr>\n",
       "  </tbody>\n",
       "</table>\n",
       "</div>"
      ],
      "text/plain": [
       "   City_ID         City Country  Max Temp Current Description      Lat  \\\n",
       "0       23       Pierre      US     75.99     overcast clouds  44.3683   \n",
       "1      399   Fort Dodge      US     75.45          few clouds  42.4975   \n",
       "2      694  Plattsburgh      US     77.32           clear sky  44.6995   \n",
       "3      597         Roma      US     75.88           clear sky  43.2128   \n",
       "4       23       Pierre      US     75.99     overcast clouds  44.3683   \n",
       "\n",
       "        Lng                                        Hotel Name  \n",
       "0 -100.3510                                     Ramkota Hotel  \n",
       "1  -94.1680  Country Inn & Suites by Radisson, Fort Dodge, IA  \n",
       "2  -73.4529     La Quinta Inn & Suites by Wyndham Plattsburgh  \n",
       "3  -75.4557                           Wingate By Wyndham Rome  \n",
       "4 -100.3510                                     Ramkota Hotel  "
      ]
     },
     "execution_count": 10,
     "metadata": {},
     "output_type": "execute_result"
    }
   ],
   "source": [
    "# 8. To create a marker layer map between the four cities.\n",
    "#  Combine the four city DataFrames into one DataFrame using the concat() function.\n",
    "itinerary_df = pd.concat([vacation_start, vacation_stop1, vacation_stop2, vacation_stop3, vacation_end],ignore_index=True)\n",
    "itinerary_df"
   ]
  },
  {
   "cell_type": "code",
   "execution_count": 11,
   "metadata": {},
   "outputs": [],
   "source": [
    "# 9 Using the template add city name, the country code, the weather description and maximum temperature for the city. \n",
    "info_box_template = \"\"\"\n",
    "<dl>\n",
    "<dt>Hotel Name</dt><dd>{Hotel Name}</dd>\n",
    "<dt>City</dt><dd>{City}</dd>\n",
    "<dt>Country</dt><dd>{Country}</dd>\n",
    "<dt>Current Weather</dt><dd>{Current Description} and {Max Temp} °F</dd>\n",
    "</dl>\n",
    "\"\"\"\n",
    "\n",
    "# 10a Get the data from each row and add it to the formatting template and store the data in a list.\n",
    "hotel_info = [info_box_template.format(**row) for index, row in itinerary_df.iterrows()]\n",
    "\n",
    "# 10b. Get the latitude and longitude from each row and store in a new DataFrame.\n",
    "locations = itinerary_df[[\"Lat\", \"Lng\"]]"
   ]
  },
  {
   "cell_type": "code",
   "execution_count": 12,
   "metadata": {},
   "outputs": [
    {
     "data": {
      "application/vnd.jupyter.widget-view+json": {
       "model_id": "c595f0e48a1a4d53bfc0427b27e06941",
       "version_major": 2,
       "version_minor": 0
      },
      "text/plain": [
       "Figure(layout=FigureLayout(height='420px'))"
      ]
     },
     "metadata": {},
     "output_type": "display_data"
    }
   ],
   "source": [
    "# 11a. Add a marker layer for each city to the map.\n",
    "locations = itinerary_df[[\"Lat\", \"Lng\"]]\n",
    "max_temp = itinerary_df[\"Max Temp\"]\n",
    "fig = gmaps.figure(center=(30.0, 31.0), zoom_level=1.5)\n",
    "heat_layer = gmaps.heatmap_layer(locations, weights=max_temp,dissipating=False,\n",
    "             max_intensity=300, point_radius=4)\n",
    "marker_layer = gmaps.marker_layer(locations, info_box_content=hotel_info)\n",
    "fig.add_layer(heat_layer)\n",
    "fig.add_layer(marker_layer)\n",
    "# 11b. Display the figure\n",
    "fig"
   ]
  },
  {
   "cell_type": "code",
   "execution_count": null,
   "metadata": {},
   "outputs": [],
   "source": []
  }
 ],
 "metadata": {
  "kernelspec": {
   "display_name": "PythonData",
   "language": "python",
   "name": "pythondata"
  },
  "language_info": {
   "codemirror_mode": {
    "name": "ipython",
    "version": 3
   },
   "file_extension": ".py",
   "mimetype": "text/x-python",
   "name": "python",
   "nbconvert_exporter": "python",
   "pygments_lexer": "ipython3",
   "version": "3.8.5"
  },
  "latex_envs": {
   "LaTeX_envs_menu_present": true,
   "autoclose": false,
   "autocomplete": true,
   "bibliofile": "biblio.bib",
   "cite_by": "apalike",
   "current_citInitial": 1,
   "eqLabelWithNumbers": true,
   "eqNumInitial": 1,
   "hotkeys": {
    "equation": "Ctrl-E",
    "itemize": "Ctrl-I"
   },
   "labels_anchors": false,
   "latex_user_defs": false,
   "report_style_numbering": false,
   "user_envs_cfg": false
  }
 },
 "nbformat": 4,
 "nbformat_minor": 2
}
